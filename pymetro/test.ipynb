{
 "cells": [
  {
   "cell_type": "code",
   "execution_count": 1,
   "metadata": {
    "collapsed": true
   },
   "outputs": [],
   "source": [
    "from data import LINES, STATIONS, LINKS\n",
    "\n",
    "from heapdict import heapdict\n",
    "from collections import defaultdict\n",
    "from pymetro.types import Route, Station"
   ]
  },
  {
   "cell_type": "code",
   "execution_count": 15,
   "metadata": {
    "collapsed": true
   },
   "outputs": [],
   "source": [
    "class Router:\n",
    "\n",
    "    def __init__(self):\n",
    "        graph = {}\n",
    "        for source, target, time in LINKS:\n",
    "            source, target = Station(source), Station(target)\n",
    "            if source not in graph:\n",
    "                graph[source] = {target: time}\n",
    "            else:\n",
    "                graph[source][target] = time\n",
    "            if target not in graph:\n",
    "                graph[target] = {source: time}\n",
    "            else:\n",
    "                graph[target][source] = time\n",
    "        self.graph = graph\n",
    "\n",
    "    def make_route(self, source: Station, target: Station) -> Route:\n",
    "        queue = heapdict()\n",
    "        parent = {}\n",
    "        visited = {}\n",
    "        queue[source] = 0\n",
    "        parent[source] = False\n",
    "        while queue:\n",
    "            u, length = queue.popitem()\n",
    "            visited[u] = True\n",
    "            for v in self.graph[u].keys():\n",
    "                if v not in visited:\n",
    "                    if v in queue:\n",
    "                        nxt = queue[v]\n",
    "                    else:\n",
    "                        nxt = float('inf')\n",
    "                    new_length = length + self.graph[u][v]\n",
    "                    if new_length < nxt:\n",
    "                        queue[v], parent[v] = new_length, u\n",
    "            if u == target: \n",
    "                path = []\n",
    "                while u:\n",
    "                    path.append(u)\n",
    "                    u = parent[u]\n",
    "                print(list(reversed(path)), length)\n",
    "                return Route([Station(number) for number in list(reversed(path))], length)"
   ]
  },
  {
   "cell_type": "code",
   "execution_count": 16,
   "metadata": {
    "collapsed": true
   },
   "outputs": [],
   "source": [
    "source, target = Station(7), Station(46)"
   ]
  },
  {
   "cell_type": "code",
   "execution_count": 17,
   "metadata": {},
   "outputs": [
    {
     "name": "stdout",
     "output_type": "stream",
     "text": [
      "[<Station: Красные Ворота (line 1)>, <Station: Чистые пруды (line 1)>, <Station: Сретенский бульвар (line 10)>, <Station: Чкаловская (line 10)>, <Station: Курская (line 3)>, <Station: Бауманская (line 3)>] 795\n"
     ]
    },
    {
     "ename": "ValueError",
     "evalue": "Invalid station id",
     "output_type": "error",
     "traceback": [
      "\u001b[0;31m---------------------------------------------------------------------------\u001b[0m",
      "\u001b[0;31mValueError\u001b[0m                                Traceback (most recent call last)",
      "\u001b[0;32m<ipython-input-17-9ade91acc262>\u001b[0m in \u001b[0;36m<module>\u001b[0;34m()\u001b[0m\n\u001b[0;32m----> 1\u001b[0;31m \u001b[0mr\u001b[0m \u001b[0;34m=\u001b[0m \u001b[0mRouter\u001b[0m\u001b[0;34m(\u001b[0m\u001b[0;34m)\u001b[0m\u001b[0;34m.\u001b[0m\u001b[0mmake_route\u001b[0m\u001b[0;34m(\u001b[0m\u001b[0msource\u001b[0m\u001b[0;34m,\u001b[0m \u001b[0mtarget\u001b[0m\u001b[0;34m)\u001b[0m\u001b[0;34m\u001b[0m\u001b[0m\n\u001b[0m",
      "\u001b[0;32m<ipython-input-15-dabbc3c8fad3>\u001b[0m in \u001b[0;36mmake_route\u001b[0;34m(self, source, target)\u001b[0m\n\u001b[1;32m     39\u001b[0m                     \u001b[0mu\u001b[0m \u001b[0;34m=\u001b[0m \u001b[0mparent\u001b[0m\u001b[0;34m[\u001b[0m\u001b[0mu\u001b[0m\u001b[0;34m]\u001b[0m\u001b[0;34m\u001b[0m\u001b[0m\n\u001b[1;32m     40\u001b[0m                 \u001b[0mprint\u001b[0m\u001b[0;34m(\u001b[0m\u001b[0mlist\u001b[0m\u001b[0;34m(\u001b[0m\u001b[0mreversed\u001b[0m\u001b[0;34m(\u001b[0m\u001b[0mpath\u001b[0m\u001b[0;34m)\u001b[0m\u001b[0;34m)\u001b[0m\u001b[0;34m,\u001b[0m \u001b[0mlength\u001b[0m\u001b[0;34m)\u001b[0m\u001b[0;34m\u001b[0m\u001b[0m\n\u001b[0;32m---> 41\u001b[0;31m                 \u001b[0;32mreturn\u001b[0m \u001b[0mRoute\u001b[0m\u001b[0;34m(\u001b[0m\u001b[0;34m[\u001b[0m\u001b[0mStation\u001b[0m\u001b[0;34m(\u001b[0m\u001b[0mnumber\u001b[0m\u001b[0;34m)\u001b[0m \u001b[0;32mfor\u001b[0m \u001b[0mnumber\u001b[0m \u001b[0;32min\u001b[0m \u001b[0mlist\u001b[0m\u001b[0;34m(\u001b[0m\u001b[0mreversed\u001b[0m\u001b[0;34m(\u001b[0m\u001b[0mpath\u001b[0m\u001b[0;34m)\u001b[0m\u001b[0;34m)\u001b[0m\u001b[0;34m]\u001b[0m\u001b[0;34m,\u001b[0m \u001b[0mlength\u001b[0m\u001b[0;34m)\u001b[0m\u001b[0;34m\u001b[0m\u001b[0m\n\u001b[0m",
      "\u001b[0;32m<ipython-input-15-dabbc3c8fad3>\u001b[0m in \u001b[0;36m<listcomp>\u001b[0;34m(.0)\u001b[0m\n\u001b[1;32m     39\u001b[0m                     \u001b[0mu\u001b[0m \u001b[0;34m=\u001b[0m \u001b[0mparent\u001b[0m\u001b[0;34m[\u001b[0m\u001b[0mu\u001b[0m\u001b[0;34m]\u001b[0m\u001b[0;34m\u001b[0m\u001b[0m\n\u001b[1;32m     40\u001b[0m                 \u001b[0mprint\u001b[0m\u001b[0;34m(\u001b[0m\u001b[0mlist\u001b[0m\u001b[0;34m(\u001b[0m\u001b[0mreversed\u001b[0m\u001b[0;34m(\u001b[0m\u001b[0mpath\u001b[0m\u001b[0;34m)\u001b[0m\u001b[0;34m)\u001b[0m\u001b[0;34m,\u001b[0m \u001b[0mlength\u001b[0m\u001b[0;34m)\u001b[0m\u001b[0;34m\u001b[0m\u001b[0m\n\u001b[0;32m---> 41\u001b[0;31m                 \u001b[0;32mreturn\u001b[0m \u001b[0mRoute\u001b[0m\u001b[0;34m(\u001b[0m\u001b[0;34m[\u001b[0m\u001b[0mStation\u001b[0m\u001b[0;34m(\u001b[0m\u001b[0mnumber\u001b[0m\u001b[0;34m)\u001b[0m \u001b[0;32mfor\u001b[0m \u001b[0mnumber\u001b[0m \u001b[0;32min\u001b[0m \u001b[0mlist\u001b[0m\u001b[0;34m(\u001b[0m\u001b[0mreversed\u001b[0m\u001b[0;34m(\u001b[0m\u001b[0mpath\u001b[0m\u001b[0;34m)\u001b[0m\u001b[0;34m)\u001b[0m\u001b[0;34m]\u001b[0m\u001b[0;34m,\u001b[0m \u001b[0mlength\u001b[0m\u001b[0;34m)\u001b[0m\u001b[0;34m\u001b[0m\u001b[0m\n\u001b[0m",
      "\u001b[0;32m~/Documents/GitHub/pymetro/pymetro/types.py\u001b[0m in \u001b[0;36m__init__\u001b[0;34m(self, id_)\u001b[0m\n\u001b[1;32m     11\u001b[0m \u001b[0;34m\u001b[0m\u001b[0m\n\u001b[1;32m     12\u001b[0m         \u001b[0;32mif\u001b[0m \u001b[0mid_\u001b[0m \u001b[0;32mnot\u001b[0m \u001b[0;32min\u001b[0m \u001b[0mdata\u001b[0m\u001b[0;34m.\u001b[0m\u001b[0mSTATIONS\u001b[0m\u001b[0;34m:\u001b[0m\u001b[0;34m\u001b[0m\u001b[0m\n\u001b[0;32m---> 13\u001b[0;31m             \u001b[0;32mraise\u001b[0m \u001b[0mValueError\u001b[0m\u001b[0;34m(\u001b[0m\u001b[0;34m'Invalid station id'\u001b[0m\u001b[0;34m)\u001b[0m\u001b[0;34m\u001b[0m\u001b[0m\n\u001b[0m\u001b[1;32m     14\u001b[0m \u001b[0;34m\u001b[0m\u001b[0m\n\u001b[1;32m     15\u001b[0m         \u001b[0mself\u001b[0m\u001b[0;34m.\u001b[0m\u001b[0mid_\u001b[0m \u001b[0;34m=\u001b[0m \u001b[0mid_\u001b[0m\u001b[0;34m\u001b[0m\u001b[0m\n",
      "\u001b[0;31mValueError\u001b[0m: Invalid station id"
     ]
    }
   ],
   "source": [
    "r = Router().make_route(source, target)"
   ]
  },
  {
   "cell_type": "code",
   "execution_count": 4,
   "metadata": {},
   "outputs": [
    {
     "ename": "NameError",
     "evalue": "name 'r' is not defined",
     "output_type": "error",
     "traceback": [
      "\u001b[0;31m---------------------------------------------------------------------------\u001b[0m",
      "\u001b[0;31mNameError\u001b[0m                                 Traceback (most recent call last)",
      "\u001b[0;32m<ipython-input-4-4b8af1637c5b>\u001b[0m in \u001b[0;36m<module>\u001b[0;34m()\u001b[0m\n\u001b[0;32m----> 1\u001b[0;31m \u001b[0mr\u001b[0m\u001b[0;34m.\u001b[0m\u001b[0mpath\u001b[0m\u001b[0;34m\u001b[0m\u001b[0m\n\u001b[0m",
      "\u001b[0;31mNameError\u001b[0m: name 'r' is not defined"
     ]
    }
   ],
   "source": [
    "r.path"
   ]
  },
  {
   "cell_type": "code",
   "execution_count": null,
   "metadata": {
    "collapsed": true
   },
   "outputs": [],
   "source": []
  },
  {
   "cell_type": "code",
   "execution_count": 382,
   "metadata": {},
   "outputs": [
    {
     "name": "stderr",
     "output_type": "stream",
     "text": [
      "ERROR:root:Internal Python error in the inspect module.\n",
      "Below is the traceback from this internal error.\n",
      "\n"
     ]
    },
    {
     "name": "stdout",
     "output_type": "stream",
     "text": [
      "Traceback (most recent call last):\n",
      "  File \"/anaconda3/lib/python3.6/site-packages/IPython/core/interactiveshell.py\", line 2862, in run_code\n",
      "    exec(code_obj, self.user_global_ns, self.user_ns)\n",
      "  File \"<ipython-input-382-b59837c89607>\", line 1, in <module>\n",
      "    Router().make_route(Station(188), Station(197))#.time\n",
      "  File \"<ipython-input-379-9f1851097b15>\", line 26, in make_route\n",
      "    for v in graph[u].keys():\n",
      "KeyError: <Station: Пятницкое шоссе (line 3)>\n",
      "\n",
      "During handling of the above exception, another exception occurred:\n",
      "\n",
      "Traceback (most recent call last):\n",
      "  File \"/anaconda3/lib/python3.6/site-packages/IPython/core/interactiveshell.py\", line 1806, in showtraceback\n",
      "    stb = value._render_traceback_()\n",
      "AttributeError: 'KeyError' object has no attribute '_render_traceback_'\n",
      "\n",
      "During handling of the above exception, another exception occurred:\n",
      "\n",
      "Traceback (most recent call last):\n",
      "  File \"/anaconda3/lib/python3.6/site-packages/IPython/core/ultratb.py\", line 1090, in get_records\n",
      "    return _fixed_getinnerframes(etb, number_of_lines_of_context, tb_offset)\n",
      "  File \"/anaconda3/lib/python3.6/site-packages/IPython/core/ultratb.py\", line 311, in wrapped\n",
      "    return f(*args, **kwargs)\n",
      "  File \"/anaconda3/lib/python3.6/site-packages/IPython/core/ultratb.py\", line 345, in _fixed_getinnerframes\n",
      "    records = fix_frame_records_filenames(inspect.getinnerframes(etb, context))\n",
      "  File \"/anaconda3/lib/python3.6/inspect.py\", line 1480, in getinnerframes\n",
      "    frameinfo = (tb.tb_frame,) + getframeinfo(tb, context)\n",
      "  File \"/anaconda3/lib/python3.6/inspect.py\", line 1438, in getframeinfo\n",
      "    filename = getsourcefile(frame) or getfile(frame)\n",
      "  File \"/anaconda3/lib/python3.6/inspect.py\", line 693, in getsourcefile\n",
      "    if getattr(getmodule(object, filename), '__loader__', None) is not None:\n",
      "  File \"/anaconda3/lib/python3.6/inspect.py\", line 722, in getmodule\n",
      "    file = getabsfile(object, _filename)\n",
      "  File \"/anaconda3/lib/python3.6/inspect.py\", line 706, in getabsfile\n",
      "    return os.path.normcase(os.path.abspath(_filename))\n",
      "  File \"/anaconda3/lib/python3.6/posixpath.py\", line 374, in abspath\n",
      "    cwd = os.getcwd()\n",
      "FileNotFoundError: [Errno 2] No such file or directory\n"
     ]
    },
    {
     "ename": "KeyError",
     "evalue": "<Station: Пятницкое шоссе (line 3)>",
     "output_type": "error",
     "traceback": [
      "\u001b[0;31m---------------------------------------------------------------------------\u001b[0m"
     ]
    }
   ],
   "source": [
    "Router().make_route(Station(188), Station(197))#.time"
   ]
  },
  {
   "cell_type": "code",
   "execution_count": 334,
   "metadata": {
    "collapsed": true
   },
   "outputs": [],
   "source": [
    "def make_route(graph, source, target, STATIONS):\n",
    "    queue = heapdict()\n",
    "    parent = {}\n",
    "    visited = {}\n",
    "    queue[source] = 0\n",
    "    parent[source] = False\n",
    "    while queue:\n",
    "        u, length = queue.popitem()\n",
    "        visited[u] = True\n",
    "        for v in graph[u].keys():\n",
    "            if v not in visited:\n",
    "                if v in queue:\n",
    "                    nxt = queue[v]\n",
    "                else:\n",
    "                    nxt = float('inf')\n",
    "                new_length = length + graph[u][v]\n",
    "                if new_length < nxt:\n",
    "                    queue[v], parent[v] = new_length, u\n",
    "        if u == target: \n",
    "            path = []\n",
    "            while u:\n",
    "                path.append(u)\n",
    "                u = parent[u]\n",
    "            return [number for number in reversed(path)], length"
   ]
  },
  {
   "cell_type": "code",
   "execution_count": 335,
   "metadata": {},
   "outputs": [
    {
     "data": {
      "text/plain": [
       "(58, 59, 130)"
      ]
     },
     "execution_count": 335,
     "metadata": {},
     "output_type": "execute_result"
    }
   ],
   "source": [
    "LINKS[92]"
   ]
  },
  {
   "cell_type": "code",
   "execution_count": 336,
   "metadata": {},
   "outputs": [
    {
     "data": {
      "text/plain": [
       "(123, 124, 185)"
      ]
     },
     "execution_count": 336,
     "metadata": {},
     "output_type": "execute_result"
    }
   ],
   "source": [
    "LINKS[180]"
   ]
  },
  {
   "cell_type": "code",
   "execution_count": 337,
   "metadata": {
    "collapsed": true
   },
   "outputs": [],
   "source": [
    "#LINKS = [('a', 'd', 1), ('a', 'c', 2), ('a', 'b', 1), ('d', 'c', 1), ('c', 'b', 3)]\n",
    "from data import LINES, STATIONS, LINKS\n",
    "graph = {}\n",
    "for source, target, time in LINKS:\n",
    "    if source not in graph:\n",
    "        graph[source] = {target: time}\n",
    "    else:\n",
    "        graph[source][target] = time\n",
    "    if target not in graph:\n",
    "        graph[target] = {source: time}\n",
    "    else:\n",
    "        graph[target][source] = time"
   ]
  },
  {
   "cell_type": "code",
   "execution_count": 338,
   "metadata": {},
   "outputs": [
    {
     "name": "stdout",
     "output_type": "stream",
     "text": [
      "([7, 8, 159, 160, 47, 46], 795)\n"
     ]
    }
   ],
   "source": [
    "print(make_route(graph, 7, 46, STATIONS))"
   ]
  },
  {
   "cell_type": "code",
   "execution_count": 171,
   "metadata": {
    "collapsed": true
   },
   "outputs": [],
   "source": [
    "graph = {}\n",
    "for source, target, time in LINKS:\n",
    "    if source not in graph:\n",
    "        graph[source] = {target: time}\n",
    "    else:\n",
    "        graph[source][target] = time\n",
    "    if target not in graph:\n",
    "        graph[target] = {source: time}\n",
    "    else:\n",
    "        graph[target][source] = time"
   ]
  },
  {
   "cell_type": "code",
   "execution_count": 167,
   "metadata": {
    "collapsed": true
   },
   "outputs": [],
   "source": [
    "from data import LINES, STATIONS, LINKS"
   ]
  },
  {
   "cell_type": "code",
   "execution_count": 165,
   "metadata": {},
   "outputs": [
    {
     "data": {
      "text/plain": [
       "{'a': {'b': 1, 'c': 2, 'd': 1},\n",
       " 'b': {'a': 1, 'c': 3},\n",
       " 'c': {'a': 2, 'b': 3, 'd': 1},\n",
       " 'd': {'a': 1, 'c': 1}}"
      ]
     },
     "execution_count": 165,
     "metadata": {},
     "output_type": "execute_result"
    }
   ],
   "source": [
    "graph"
   ]
  },
  {
   "cell_type": "code",
   "execution_count": 174,
   "metadata": {},
   "outputs": [
    {
     "name": "stdout",
     "output_type": "stream",
     "text": [
      "7 0\n",
      "8 100\n",
      "6 110\n",
      "9 215\n",
      "5 225\n",
      "159 280\n",
      "92 280\n",
      "10 315\n",
      "4 360\n",
      "91 380\n",
      "117 395\n",
      "93 405\n",
      "11 420\n",
      "160 440\n",
      "158 440\n",
      "77 470\n",
      "118 485\n",
      "90 500\n",
      "116 515\n",
      "12 535\n",
      "29 555\n",
      "3 560\n",
      "94 575\n",
      "182 590\n",
      "68 600\n",
      "161 615\n",
      "47 620\n",
      "142 620\n",
      "78 630\n",
      "89 630\n",
      "76 645\n",
      "28 655\n",
      "119 655\n",
      "67 665\n",
      "13 665\n",
      "115 680\n",
      "132 695\n",
      "2 705\n",
      "30 715\n",
      "49 720\n",
      "95 730\n",
      "143 730\n",
      "181 740\n",
      "27 755\n",
      "88 770\n",
      "141 780\n",
      "66 780\n",
      "144 780\n",
      "162 780\n",
      "79 790\n",
      "46 795\n",
      "[7, 8, 159, 160, 47, 46]\n"
     ]
    }
   ],
   "source": [
    "print(dijkstra(graph, 7, 46))"
   ]
  },
  {
   "cell_type": "code",
   "execution_count": 94,
   "metadata": {
    "collapsed": true
   },
   "outputs": [],
   "source": [
    "k = dijkstra(G, 7, 46)"
   ]
  },
  {
   "cell_type": "code",
   "execution_count": 95,
   "metadata": {},
   "outputs": [
    {
     "name": "stdout",
     "output_type": "stream",
     "text": [
      "{'line': 1, 'name': 'Красные Ворота'}\n",
      "{'line': 1, 'name': 'Чистые пруды'}\n",
      "{'line': 10, 'name': 'Сретенский бульвар'}\n",
      "{'line': 10, 'name': 'Чкаловская'}\n",
      "{'line': 3, 'name': 'Курская'}\n",
      "{'line': 3, 'name': 'Бауманская'}\n"
     ]
    }
   ],
   "source": [
    "for kk in k[0]:\n",
    "    print(STATIONS[kk])"
   ]
  },
  {
   "cell_type": "code",
   "execution_count": 30,
   "metadata": {},
   "outputs": [
    {
     "data": {
      "text/plain": [
       "{1: 'Сокольническая линия',\n",
       " 2: 'Замоскворецкая линия',\n",
       " 3: 'Арбатско-Покровская линия',\n",
       " 4: 'Филевская линия',\n",
       " 5: 'Кольцевая линия',\n",
       " 6: 'Калужско-Рижская линия',\n",
       " 7: 'Таганско-Краснопресненская линия',\n",
       " 8: 'Калининско-Солнцевская линия',\n",
       " 9: 'Серпуховско-Тимирязевская линия',\n",
       " 10: 'Люблинско-Дмитровская линия',\n",
       " 11: 'Каховская линия',\n",
       " 12: 'Бутовская линия',\n",
       " 13: 'Московский монорельс',\n",
       " 14: 'Московское центральное кольцо',\n",
       " 15: 'Большая кольцевая линия'}"
      ]
     },
     "execution_count": 30,
     "metadata": {},
     "output_type": "execute_result"
    }
   ],
   "source": [
    "LINES"
   ]
  },
  {
   "cell_type": "code",
   "execution_count": 31,
   "metadata": {},
   "outputs": [
    {
     "data": {
      "text/plain": [
       "{'line': 1, 'name': 'Бульвар Рокоссовского'}"
      ]
     },
     "execution_count": 31,
     "metadata": {},
     "output_type": "execute_result"
    }
   ],
   "source": [
    "STATIONS[1]"
   ]
  },
  {
   "cell_type": "code",
   "execution_count": 36,
   "metadata": {},
   "outputs": [
    {
     "data": {
      "text/plain": [
       "[(1, 229, 541), (2, 3, 145), (2, 228, 300)]"
      ]
     },
     "execution_count": 36,
     "metadata": {},
     "output_type": "execute_result"
    }
   ],
   "source": [
    "# (source, target, time)\n",
    "LINKS[1:4]"
   ]
  },
  {
   "cell_type": "code",
   "execution_count": 33,
   "metadata": {
    "collapsed": true
   },
   "outputs": [],
   "source": [
    "source, target = Station(7), Station(46)"
   ]
  },
  {
   "cell_type": "code",
   "execution_count": 34,
   "metadata": {},
   "outputs": [
    {
     "data": {
      "text/plain": [
       "(<Station: Красные Ворота (line 1)>, <Station: Бауманская (line 3)>)"
      ]
     },
     "execution_count": 34,
     "metadata": {},
     "output_type": "execute_result"
    }
   ],
   "source": [
    "source, target"
   ]
  },
  {
   "cell_type": "code",
   "execution_count": 35,
   "metadata": {},
   "outputs": [
    {
     "ename": "TypeError",
     "evalue": "tuple indices must be integers or slices, not Station",
     "output_type": "error",
     "traceback": [
      "\u001b[0;31m---------------------------------------------------------------------------\u001b[0m",
      "\u001b[0;31mTypeError\u001b[0m                                 Traceback (most recent call last)",
      "\u001b[0;32m<ipython-input-35-9ade91acc262>\u001b[0m in \u001b[0;36m<module>\u001b[0;34m()\u001b[0m\n\u001b[0;32m----> 1\u001b[0;31m \u001b[0mr\u001b[0m \u001b[0;34m=\u001b[0m \u001b[0mRouter\u001b[0m\u001b[0;34m(\u001b[0m\u001b[0;34m)\u001b[0m\u001b[0;34m.\u001b[0m\u001b[0mmake_route\u001b[0m\u001b[0;34m(\u001b[0m\u001b[0msource\u001b[0m\u001b[0;34m,\u001b[0m \u001b[0mtarget\u001b[0m\u001b[0;34m)\u001b[0m\u001b[0;34m\u001b[0m\u001b[0m\n\u001b[0m",
      "\u001b[0;32m<ipython-input-29-c0e4f130cde3>\u001b[0m in \u001b[0;36m__init__\u001b[0;34m(self)\u001b[0m\n\u001b[1;32m      4\u001b[0m         \u001b[0mself\u001b[0m\u001b[0;34m.\u001b[0m\u001b[0mgraph\u001b[0m \u001b[0;34m=\u001b[0m \u001b[0;34m(\u001b[0m\u001b[0;36m0\u001b[0m\u001b[0;34m,\u001b[0m \u001b[0mheapdict\u001b[0m\u001b[0;34m)\u001b[0m\u001b[0;34m\u001b[0m\u001b[0m\n\u001b[1;32m      5\u001b[0m         \u001b[0;32mfor\u001b[0m \u001b[0msource\u001b[0m\u001b[0;34m,\u001b[0m \u001b[0mtarget\u001b[0m\u001b[0;34m,\u001b[0m \u001b[0mtime\u001b[0m \u001b[0;32min\u001b[0m \u001b[0mLINKS\u001b[0m\u001b[0;34m:\u001b[0m\u001b[0;34m\u001b[0m\u001b[0m\n\u001b[0;32m----> 6\u001b[0;31m             \u001b[0mself\u001b[0m\u001b[0;34m.\u001b[0m\u001b[0mgraph\u001b[0m\u001b[0;34m[\u001b[0m\u001b[0mStation\u001b[0m\u001b[0;34m(\u001b[0m\u001b[0msource\u001b[0m\u001b[0;34m)\u001b[0m\u001b[0;34m]\u001b[0m\u001b[0;34m[\u001b[0m\u001b[0mStation\u001b[0m\u001b[0;34m(\u001b[0m\u001b[0mtarget\u001b[0m\u001b[0;34m)\u001b[0m\u001b[0;34m]\u001b[0m\u001b[0;34m=\u001b[0m\u001b[0mtime\u001b[0m\u001b[0;34m\u001b[0m\u001b[0m\n\u001b[0m\u001b[1;32m      7\u001b[0m             \u001b[0mself\u001b[0m\u001b[0;34m.\u001b[0m\u001b[0mgraph\u001b[0m\u001b[0;34m[\u001b[0m\u001b[0mStation\u001b[0m\u001b[0;34m(\u001b[0m\u001b[0mtarget\u001b[0m\u001b[0;34m)\u001b[0m\u001b[0;34m]\u001b[0m\u001b[0;34m[\u001b[0m\u001b[0mStation\u001b[0m\u001b[0;34m(\u001b[0m\u001b[0msource\u001b[0m\u001b[0;34m)\u001b[0m\u001b[0;34m]\u001b[0m\u001b[0;34m=\u001b[0m\u001b[0mtime\u001b[0m\u001b[0;34m\u001b[0m\u001b[0m\n\u001b[1;32m      8\u001b[0m \u001b[0;34m\u001b[0m\u001b[0m\n",
      "\u001b[0;31mTypeError\u001b[0m: tuple indices must be integers or slices, not Station"
     ]
    }
   ],
   "source": []
  },
  {
   "cell_type": "code",
   "execution_count": 8,
   "metadata": {},
   "outputs": [
    {
     "ename": "AttributeError",
     "evalue": "'NoneType' object has no attribute 'path'",
     "output_type": "error",
     "traceback": [
      "\u001b[0;31m---------------------------------------------------------------------------\u001b[0m",
      "\u001b[0;31mAttributeError\u001b[0m                            Traceback (most recent call last)",
      "\u001b[0;32m<ipython-input-8-4b8af1637c5b>\u001b[0m in \u001b[0;36m<module>\u001b[0;34m()\u001b[0m\n\u001b[0;32m----> 1\u001b[0;31m \u001b[0mr\u001b[0m\u001b[0;34m.\u001b[0m\u001b[0mpath\u001b[0m\u001b[0;34m\u001b[0m\u001b[0m\n\u001b[0m",
      "\u001b[0;31mAttributeError\u001b[0m: 'NoneType' object has no attribute 'path'"
     ]
    }
   ],
   "source": [
    "r.path"
   ]
  },
  {
   "cell_type": "code",
   "execution_count": null,
   "metadata": {
    "collapsed": true
   },
   "outputs": [],
   "source": [
    "r.time"
   ]
  },
  {
   "cell_type": "code",
   "execution_count": null,
   "metadata": {
    "collapsed": true
   },
   "outputs": [],
   "source": [
    "#r = Router().make_route(source, target)\n",
    "#r.path\n",
    "#Out[5]:\n",
    "#[<Station: Красные Ворота (line 1)>,\n",
    "# <Station: Чистые пруды (line 1)>,\n",
    "# <Station: Сретенский бульвар (line 10 )>,\n",
    "# <Station: Чкаловская (line 10)>,\n",
    "# <Station: Курская (line 3)>,\n",
    "# <Station: Бауманская (line 3)>]\n",
    "\n",
    "#r.time\n",
    "#795"
   ]
  },
  {
   "cell_type": "code",
   "execution_count": 376,
   "metadata": {
    "collapsed": true
   },
   "outputs": [],
   "source": [
    "from collections import Counter\n",
    "from heapq import heapify, heappop, heappush\n",
    "from string import hexdigits\n",
    "\n",
    "\n",
    "# ------------------------------------------------------------------------------\n",
    "# Вспомогательный код\n",
    "\n",
    "class Node:\n",
    "    \"\"\"\n",
    "    Элемент дерева символов для алгоритма Хаффмана. Содержит символ текста,\n",
    "    частоту его повторения и массив непосредственных потомков в дереве.\n",
    "\n",
    "    Объекты можно сравнивать. Сравнение производится по частоте повторения,\n",
    "    либо по номерам символов в Unicode, если частоты равны:\n",
    "\n",
    "    >>> Node('z', freq=90) > Node('b', freq=20)\n",
    "    >>> True\n",
    "\n",
    "    >>> Node('z', freq=30) < Node('b', freq=20)\n",
    "    >>> False\n",
    "\n",
    "    >>> Node('a', freq=20) < Node('n', freq=20)\n",
    "    >>> True\n",
    "    \"\"\"\n",
    "\n",
    "    def __init__(self, letter=None, freq=0, children=None):\n",
    "        self.letter = letter\n",
    "        self.freq = freq\n",
    "        self.children = children or []\n",
    "\n",
    "    def tuple(self):\n",
    "        return (self.freq, ord(self.letter) if self.letter else -1)\n",
    "\n",
    "    def __lt__(self, other):\n",
    "        return self.tuple() < other.tuple()\n",
    "\n",
    "    def __eq__(self, other):\n",
    "        return self.tuple() == other.tuple()\n",
    "\n",
    "\n",
    "def encoding_table(node, code=''):\n",
    "    \"\"\"\n",
    "    Превращает построенное алгоритмом Хаффмана дерево\n",
    "    в словарь соответствия символ-код.\n",
    "\n",
    "    Для кодирования, в зависимости от арности дерева,\n",
    "    используются символы [0-9abcdef].\n",
    "\n",
    "    :param node: корень дерева\n",
    "    :param code: префикс всех кодов (при вызове оставить пустым)\n",
    "    :return: словарь соответствия символ-код.\n",
    "\n",
    "    >>> encoding_table(Node(children=[Node('a'), Node('b'), Node('c')]))\n",
    "    >>> {'a': '0', 'b': '1', 'c': '2'}\n",
    "    \"\"\"\n",
    "\n",
    "    if node.letter is None:\n",
    "        mapping = {}\n",
    "        for child, digit in zip(node.children, hexdigits):\n",
    "            mapping.update(encoding_table(child, code + digit))\n",
    "        return mapping\n",
    "    else:\n",
    "        return {node.letter: code}\n",
    "\n",
    "# ------------------------------------------------------------------------------\n",
    "\n",
    "\n",
    "def huffman_encode(text, arity=5):\n",
    "    \"\"\"\n",
    "    Кодирует строку текста алгоритмом Хаффмана с заданным\n",
    "    количеством символов выходного алфавита\n",
    "\n",
    "    :param text: текст для кодирования\n",
    "    :param arity: количество символов выходного алфавита (от 2 до 16)\n",
    "    :return: tuple: (<дерево декодирования>, <закодированная строка>)\n",
    "\n",
    "    >>> huffman_encode('helloworld', 2)\n",
    "    >>> (<utils.Node object...>, '000101111110110001001111010')\n",
    "\n",
    "    >>> huffman_encode('abcdefghijklmnop', 16)\n",
    "    >>> (<utils.Node object...>, '0123456789abcdef')\n",
    "    \"\"\"\n",
    "    if text == '':\n",
    "        return None, ''\n",
    "    nodes = []\n",
    "    dict_l_fr = Counter(text)\n",
    "    for l in dict_l_fr:\n",
    "        nodes.append(Node(l, dict_l_fr[l]))\n",
    "    heapify(nodes)\n",
    "    while len(nodes) != 1:\n",
    "        children = []\n",
    "        for x in range(arity):\n",
    "            children.append(heappop(nodes))\n",
    "        sum_fr = 0\n",
    "        for every_child in children:\n",
    "            sum_fr = sum_fr + every_child.freq\n",
    "        one = Node(None, sum_fr)\n",
    "        one.children = children\n",
    "        heappush(nodes, one)\n",
    "    root = nodes[0]\n",
    "    dict_sym_code = encoding_table(root)\n",
    "    encoded_str = ''\n",
    "    for l in text:\n",
    "        encoded_str = encoded_str + dict_sym_code[l]\n",
    "    return root, encoded_str\n",
    "\n",
    "assert huffman_encode('helloworld', 2)[1] == '000101111110110001001111010'\n",
    "assert huffman_encode('abcdefghijklmnop', 16)[1] == '0123456789abcdef'\n",
    "assert huffman_encode('', 16)[1] == ''\n"
   ]
  },
  {
   "cell_type": "code",
   "execution_count": 377,
   "metadata": {},
   "outputs": [
    {
     "name": "stderr",
     "output_type": "stream",
     "text": [
      "ERROR:root:Internal Python error in the inspect module.\n",
      "Below is the traceback from this internal error.\n",
      "\n"
     ]
    },
    {
     "name": "stdout",
     "output_type": "stream",
     "text": [
      "Traceback (most recent call last):\n",
      "  File \"/anaconda3/lib/python3.6/site-packages/IPython/core/interactiveshell.py\", line 2862, in run_code\n",
      "    exec(code_obj, self.user_global_ns, self.user_ns)\n",
      "  File \"<ipython-input-377-8df9ec9a303b>\", line 2, in <module>\n",
      "    tree = huffman_encode(s, 5)\n",
      "  File \"<ipython-input-376-12673cb89a32>\", line 94, in huffman_encode\n",
      "    children.append(heappop(nodes))\n",
      "IndexError: index out of range\n",
      "\n",
      "During handling of the above exception, another exception occurred:\n",
      "\n",
      "Traceback (most recent call last):\n",
      "  File \"/anaconda3/lib/python3.6/site-packages/IPython/core/interactiveshell.py\", line 1806, in showtraceback\n",
      "    stb = value._render_traceback_()\n",
      "AttributeError: 'IndexError' object has no attribute '_render_traceback_'\n",
      "\n",
      "During handling of the above exception, another exception occurred:\n",
      "\n",
      "Traceback (most recent call last):\n",
      "  File \"/anaconda3/lib/python3.6/site-packages/IPython/core/ultratb.py\", line 1090, in get_records\n",
      "    return _fixed_getinnerframes(etb, number_of_lines_of_context, tb_offset)\n",
      "  File \"/anaconda3/lib/python3.6/site-packages/IPython/core/ultratb.py\", line 311, in wrapped\n",
      "    return f(*args, **kwargs)\n",
      "  File \"/anaconda3/lib/python3.6/site-packages/IPython/core/ultratb.py\", line 345, in _fixed_getinnerframes\n",
      "    records = fix_frame_records_filenames(inspect.getinnerframes(etb, context))\n",
      "  File \"/anaconda3/lib/python3.6/inspect.py\", line 1480, in getinnerframes\n",
      "    frameinfo = (tb.tb_frame,) + getframeinfo(tb, context)\n",
      "  File \"/anaconda3/lib/python3.6/inspect.py\", line 1438, in getframeinfo\n",
      "    filename = getsourcefile(frame) or getfile(frame)\n",
      "  File \"/anaconda3/lib/python3.6/inspect.py\", line 693, in getsourcefile\n",
      "    if getattr(getmodule(object, filename), '__loader__', None) is not None:\n",
      "  File \"/anaconda3/lib/python3.6/inspect.py\", line 722, in getmodule\n",
      "    file = getabsfile(object, _filename)\n",
      "  File \"/anaconda3/lib/python3.6/inspect.py\", line 706, in getabsfile\n",
      "    return os.path.normcase(os.path.abspath(_filename))\n",
      "  File \"/anaconda3/lib/python3.6/posixpath.py\", line 374, in abspath\n",
      "    cwd = os.getcwd()\n",
      "FileNotFoundError: [Errno 2] No such file or directory\n"
     ]
    },
    {
     "ename": "IndexError",
     "evalue": "index out of range",
     "output_type": "error",
     "traceback": [
      "\u001b[0;31m---------------------------------------------------------------------------\u001b[0m"
     ]
    }
   ],
   "source": [
    "s = '123456789a'\n",
    "tree = huffman_encode(s, 5)"
   ]
  },
  {
   "cell_type": "code",
   "execution_count": 374,
   "metadata": {},
   "outputs": [
    {
     "data": {
      "text/plain": [
       "(<__main__.Node at 0x105c7c7f0>, '1001011100110101001111101111000001')"
      ]
     },
     "execution_count": 374,
     "metadata": {},
     "output_type": "execute_result"
    }
   ],
   "source": [
    "tree"
   ]
  },
  {
   "cell_type": "code",
   "execution_count": null,
   "metadata": {
    "collapsed": true
   },
   "outputs": [],
   "source": []
  }
 ],
 "metadata": {
  "kernelspec": {
   "display_name": "Python 3",
   "language": "python",
   "name": "python3"
  },
  "language_info": {
   "codemirror_mode": {
    "name": "ipython",
    "version": 3
   },
   "file_extension": ".py",
   "mimetype": "text/x-python",
   "name": "python",
   "nbconvert_exporter": "python",
   "pygments_lexer": "ipython3",
   "version": "3.6.3"
  }
 },
 "nbformat": 4,
 "nbformat_minor": 2
}
